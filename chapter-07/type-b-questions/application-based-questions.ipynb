{
  "nbformat": 4,
  "nbformat_minor": 0,
  "metadata": {
    "colab": {
      "name": "application-based-questions.ipynb",
      "provenance": [],
      "authorship_tag": "ABX9TyO8M7rmvfxMY9bzLqjyX8q8",
      "include_colab_link": true
    },
    "kernelspec": {
      "name": "python3",
      "display_name": "Python 3"
    }
  },
  "cells": [
    {
      "cell_type": "markdown",
      "metadata": {
        "id": "view-in-github",
        "colab_type": "text"
      },
      "source": [
        "<a href=\"https://colab.research.google.com/github/djdays-py/class-xi/blob/main/chapter-07/type-b-questions/application-based-questions.ipynb\" target=\"_parent\"><img src=\"https://colab.research.google.com/assets/colab-badge.svg\" alt=\"Open In Colab\"/></a>"
      ]
    },
    {
      "cell_type": "markdown",
      "metadata": {
        "id": "YzFPDgIzwfU3"
      },
      "source": [
        "**Question-7:** *Predict the output*"
      ]
    },
    {
      "cell_type": "code",
      "metadata": {
        "id": "1alW3ppPu9Ki",
        "outputId": "e20bddd6-3451-43ef-d01a-632ade6e53d0",
        "colab": {
          "base_uri": "https://localhost:8080/"
        }
      },
      "source": [
        "\"\"\"\n",
        "Type-B Questions\n",
        "\n",
        "Question-7:\n",
        "Predict the output\n",
        "\"\"\"\n",
        "a,b,c = 10,20,30\n",
        "p,q,r = c-5,a+3,b-4\n",
        "print(\"a,b,c:\",a,b,c,end = '    ')\n",
        "print(\"p,q,r:\",p,q,r)"
      ],
      "execution_count": 1,
      "outputs": [
        {
          "output_type": "stream",
          "text": [
            "a,b,c: 10 20 30    p,q,r: 25 13 16\n"
          ],
          "name": "stdout"
        }
      ]
    },
    {
      "cell_type": "markdown",
      "metadata": {
        "id": "KpgVrY_zwSSG"
      },
      "source": [
        "**Question- 8 (a):**"
      ]
    },
    {
      "cell_type": "code",
      "metadata": {
        "id": "UR70YZdhwFWj",
        "outputId": "c44cb9c4-a03a-4890-af6c-d04458b98286",
        "colab": {
          "base_uri": "https://localhost:8080/",
          "height": 254
        }
      },
      "source": [
        "\"\"\" \n",
        "Type-B Questions\n",
        "\n",
        "Question- 8:\n",
        "a)\n",
        "\"\"\"\n",
        "y = x + 5\n",
        "print(x,y)\n",
        "\n",
        "#NameError: name 'x' is not defined\n"
      ],
      "execution_count": null,
      "outputs": [
        {
          "output_type": "error",
          "ename": "NameError",
          "evalue": "ignored",
          "traceback": [
            "\u001b[0;31m---------------------------------------------------------------------------\u001b[0m",
            "\u001b[0;31mNameError\u001b[0m                                 Traceback (most recent call last)",
            "\u001b[0;32m<ipython-input-2-8f311414402d>\u001b[0m in \u001b[0;36m<module>\u001b[0;34m()\u001b[0m\n\u001b[1;32m      5\u001b[0m a)\n\u001b[1;32m      6\u001b[0m \"\"\"\n\u001b[0;32m----> 7\u001b[0;31m \u001b[0my\u001b[0m \u001b[0;34m=\u001b[0m \u001b[0mx\u001b[0m \u001b[0;34m+\u001b[0m \u001b[0;36m5\u001b[0m\u001b[0;34m\u001b[0m\u001b[0;34m\u001b[0m\u001b[0m\n\u001b[0m\u001b[1;32m      8\u001b[0m \u001b[0mprint\u001b[0m\u001b[0;34m(\u001b[0m\u001b[0mx\u001b[0m\u001b[0;34m,\u001b[0m\u001b[0my\u001b[0m\u001b[0;34m)\u001b[0m\u001b[0;34m\u001b[0m\u001b[0;34m\u001b[0m\u001b[0m\n\u001b[1;32m      9\u001b[0m \u001b[0;34m\u001b[0m\u001b[0m\n",
            "\u001b[0;31mNameError\u001b[0m: name 'x' is not defined"
          ]
        }
      ]
    },
    {
      "cell_type": "markdown",
      "metadata": {
        "id": "ocsTDpbvxZYM"
      },
      "source": [
        "**Question- 8(b):**"
      ]
    },
    {
      "cell_type": "code",
      "metadata": {
        "id": "IfULr9b0xgj0",
        "outputId": "78a07317-025f-4235-bf88-911e9c90edbd",
        "colab": {
          "base_uri": "https://localhost:8080/",
          "height": 140
        }
      },
      "source": [
        "\"\"\"\n",
        "Question- 8:\n",
        "b)\n",
        "\n",
        "\"\"\"\n",
        "print(x=y=5)\n",
        "\n",
        "#invalid_syntax_error\n"
      ],
      "execution_count": 3,
      "outputs": [
        {
          "output_type": "error",
          "ename": "SyntaxError",
          "evalue": "ignored",
          "traceback": [
            "\u001b[0;36m  File \u001b[0;32m\"<ipython-input-3-9d87a65a87d6>\"\u001b[0;36m, line \u001b[0;32m6\u001b[0m\n\u001b[0;31m    print(x=y=5)\u001b[0m\n\u001b[0m             ^\u001b[0m\n\u001b[0;31mSyntaxError\u001b[0m\u001b[0;31m:\u001b[0m invalid syntax\n"
          ]
        }
      ]
    },
    {
      "cell_type": "code",
      "metadata": {
        "id": "tKAkHjCtxo2S"
      },
      "source": [
        "()"
      ],
      "execution_count": 3,
      "outputs": []
    }
  ]
}
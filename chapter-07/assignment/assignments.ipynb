{
  "nbformat": 4,
  "nbformat_minor": 0,
  "metadata": {
    "colab": {
      "name": "assignments.ipynb",
      "provenance": [],
      "authorship_tag": "ABX9TyOp+JQIf/b5XfVA66MdwoRw",
      "include_colab_link": true
    },
    "kernelspec": {
      "name": "python3",
      "display_name": "Python 3"
    }
  },
  "cells": [
    {
      "cell_type": "markdown",
      "metadata": {
        "id": "view-in-github",
        "colab_type": "text"
      },
      "source": [
        "<a href=\"https://colab.research.google.com/github/djdays-py/class-xi/blob/main/chapter-07/assignment/assignments.ipynb\" target=\"_parent\"><img src=\"https://colab.research.google.com/assets/colab-badge.svg\" alt=\"Open In Colab\"/></a>"
      ]
    },
    {
      "cell_type": "markdown",
      "metadata": {
        "id": "aGazsuf456Ps"
      },
      "source": [
        "***Arithmetic Operations***<br />\n",
        "*(Assignment given on 19-10-2020)*"
      ]
    },
    {
      "cell_type": "code",
      "metadata": {
        "id": "1INt0ozB4ssl",
        "outputId": "25be353f-18cd-4519-c64a-b2e655a01547",
        "colab": {
          "base_uri": "https://localhost:8080/",
          "height": 173
        }
      },
      "source": [
        "#  Get the value of five numbers from  the user\n",
        "\n",
        "num1 = int(input(\"Enter number1:   \"))\n",
        "num2 = int(input(\"Enter number2:   \"))\n",
        "num3 = int(input(\"Enter number3:   \"))\n",
        "num4 = int(input(\"Enter number4:   \"))\n",
        "num5 = int(input(\"Enter number5:   \"))\n",
        "\n",
        "#   To find the addition of 5 Numbers\n",
        "addition = num1 + num2 + num3 + num4 + num5\n",
        "print(\"Addition = \", addition)\n",
        "\n",
        "\n",
        "# Subtraction: num1-num2\n",
        "subtraction = num1 - num2\n",
        "print(\"Subtraction = \", subtraction)\n",
        "\n",
        "\n",
        "# Multiplication: num1 * num2\n",
        "multiplication = num1 * num2\n",
        "print(\"Multiplication = \",multiplication)\n",
        "\n",
        "\n",
        "# Division: num1 / num2\n",
        "division = num1/num2\n",
        "print(\"Division = \",division)\n"
      ],
      "execution_count": 1,
      "outputs": [
        {
          "output_type": "stream",
          "text": [
            "Enter number1:   23\n",
            "Enter number2:   45\n",
            "Enter number3:   26\n",
            "Enter number4:   12\n",
            "Enter number5:   67\n",
            "Addition =  173\n",
            "Subtraction =  -22\n",
            "Multiplication =  1035\n",
            "Division =  0.5111111111111111\n"
          ],
          "name": "stdout"
        }
      ]
    },
    {
      "cell_type": "markdown",
      "metadata": {
        "id": "VxyEVTNN5PbG"
      },
      "source": [
        "**To find Simple Interest**<br />\n",
        "*(Assignment given on 23-10-2020)*"
      ]
    },
    {
      "cell_type": "code",
      "metadata": {
        "id": "W5vf15jD52BW",
        "outputId": "3880b294-d16d-4a15-f171-9f6d332742a6",
        "colab": {
          "base_uri": "https://localhost:8080/",
          "height": 173
        }
      },
      "source": [
        "# To find simple interest \n",
        "# with given Principle (p), No. of Years (n) and Rate of Interest (r)\n",
        "\n",
        "p = float(input(\"Enter principle: \"))\n",
        "n = float(input(\"Enter number of years: \"))\n",
        "r = float(input(\"Enter the rate of interest: \"))\n",
        "\n",
        "interest = (p * n * r ) / 100\n",
        "\n",
        "print(\"\\nPrinciple = \", p)\n",
        "print(\"Years = \", n)\n",
        "print(\"Rate of Interest = \", r)\n",
        "\n",
        "print(\"\\nSimple interest = \",interest)\n"
      ],
      "execution_count": 2,
      "outputs": [
        {
          "output_type": "stream",
          "text": [
            "Enter principle: 5000\n",
            "Enter number of years: 2.5\n",
            "Enter the rate of interest: 8.5\n",
            "\n",
            "Principle =  5000.0\n",
            "Years =  2.5\n",
            "Rate of Interest =  8.5\n",
            "\n",
            "Simple interest =  1062.5\n"
          ],
          "name": "stdout"
        }
      ]
    }
  ]
}